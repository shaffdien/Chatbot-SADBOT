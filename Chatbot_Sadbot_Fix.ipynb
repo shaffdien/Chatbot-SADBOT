{
  "nbformat": 4,
  "nbformat_minor": 0,
  "metadata": {
    "colab": {
      "provenance": []
    },
    "kernelspec": {
      "name": "python3",
      "display_name": "Python 3"
    },
    "language_info": {
      "name": "python"
    },
    "accelerator": "GPU",
    "gpuClass": "standard"
  },
  "cells": [
    {
      "cell_type": "markdown",
      "source": [
        "#Building a Chatbot with Pytorch"
      ],
      "metadata": {
        "id": "MYJYLn0FN2px"
      }
    },
    {
      "cell_type": "markdown",
      "source": [
        "Sumber : [github](https://github.com/UsmanNiazi/Chatbot-with-Pytorch/blob/main/chatbot.ipynb)"
      ],
      "metadata": {
        "id": "IAzSeJGcQmHA"
      }
    },
    {
      "cell_type": "markdown",
      "source": [
        "###Import Libray"
      ],
      "metadata": {
        "id": "vMgFdIsaN65U"
      }
    },
    {
      "cell_type": "code",
      "execution_count": 25,
      "metadata": {
        "id": "GfbMsTQ7Nzez"
      },
      "outputs": [],
      "source": [
        "import numpy as np\n",
        "import random\n",
        "import json\n",
        "import nltk\n",
        "import torch\n",
        "import matplotlib.pyplot as plt\n",
        "import torch.nn as nn\n",
        "from torch.utils.data import Dataset, DataLoader"
      ]
    },
    {
      "cell_type": "markdown",
      "source": [
        "###Creating Custom Functions\n",
        "- create custom functions so that it is easy for us to implement afterwards"
      ],
      "metadata": {
        "id": "moJlB7I1OAmN"
      }
    },
    {
      "cell_type": "code",
      "source": [
        "def tokenize(sentence):\n",
        "    return nltk.word_tokenize(sentence)\n",
        "\n",
        "def stem(word):\n",
        "    return stemmer.stem(word.lower())"
      ],
      "metadata": {
        "id": "wvE_I3QMN-ye"
      },
      "execution_count": 26,
      "outputs": []
    },
    {
      "cell_type": "markdown",
      "source": [
        "Nltk or natural language took kit is a really useful library that contains important classes that will be useful in any of your NLP task."
      ],
      "metadata": {
        "id": "DzNUtuzSOKWx"
      }
    },
    {
      "cell_type": "markdown",
      "source": [
        "###Stemming\n",
        "- There are different methods that we can use for stemming. Here we will use Porter Stemmer model form our NLTK Library."
      ],
      "metadata": {
        "id": "fmRNxIxeOMnB"
      }
    },
    {
      "cell_type": "code",
      "source": [
        "from nltk.stem.porter import PorterStemmer\n",
        "stemmer = PorterStemmer()"
      ],
      "metadata": {
        "id": "9VLmbbt4OJbJ"
      },
      "execution_count": 27,
      "outputs": []
    },
    {
      "cell_type": "markdown",
      "source": [
        "###Bag of Words\n",
        "- We will be splitting each word in the sentences and adding it to an array.\n",
        "- We will loop over the each word in the all words array and the bog array corresponding to each word. If a word from the sentence is found in the all words array, 1 will be replaced at that index/position in bog array."
      ],
      "metadata": {
        "id": "PKByQhJfOTOS"
      }
    },
    {
      "cell_type": "code",
      "source": [
        "def bag_of_words(tokenized_sentence, words):\n",
        "    \"\"\"\n",
        "    return bag of words array:\n",
        "    1 for each known word that exists in the sentence, 0 otherwise\n",
        "    example:\n",
        "    sentence = [\"hello\", \"how\", \"are\", \"you\"]\n",
        "    words = [\"hi\", \"hello\", \"I\", \"you\", \"bye\", \"thank\", \"cool\"]\n",
        "    bog   = [  0 ,    1 ,    0 ,   1 ,    0 ,    0 ,      0]\n",
        "    \"\"\"\n",
        "    # stem each word\n",
        "    sentence_words = [stem(word) for word in tokenized_sentence]\n",
        "    # initialize bag with 0 for each word\n",
        "    bag = np.zeros(len(words), dtype=np.float32)\n",
        "    for idx, w in enumerate(words):\n",
        "        if w in sentence_words: \n",
        "            bag[idx] = 1\n",
        "\n",
        "    return bag"
      ],
      "metadata": {
        "id": "uNSgyoO3OSY5"
      },
      "execution_count": 28,
      "outputs": []
    },
    {
      "cell_type": "markdown",
      "source": [
        "During the the process , we will also use *nltk.word_tokenize()* which will convert a single sentence string into a list of word.\n",
        "\n",
        "---\n",
        "\n",
        "**Note**: we will pass lower case words to the stemmer so that words like Good and good (capitalized) won’t be labelled as different words."
      ],
      "metadata": {
        "id": "-7DDRhEkOdjb"
      }
    },
    {
      "cell_type": "markdown",
      "source": [
        "###Loading the Data & Cleaning it"
      ],
      "metadata": {
        "id": "i0_-zyKqOkQT"
      }
    },
    {
      "cell_type": "code",
      "source": [
        "with open('Sadbot.json', 'r') as f:\n",
        "    intents = json.load(f)"
      ],
      "metadata": {
        "id": "Q5VYwDObOcoQ"
      },
      "execution_count": 29,
      "outputs": []
    },
    {
      "cell_type": "code",
      "source": [
        "nltk.download('punkt')"
      ],
      "metadata": {
        "colab": {
          "base_uri": "https://localhost:8080/"
        },
        "id": "wEumkqrfPPpy",
        "outputId": "72183155-a3c7-4e52-a935-89d8ae394bcc"
      },
      "execution_count": 30,
      "outputs": [
        {
          "output_type": "stream",
          "name": "stderr",
          "text": [
            "[nltk_data] Downloading package punkt to /root/nltk_data...\n",
            "[nltk_data]   Package punkt is already up-to-date!\n"
          ]
        },
        {
          "output_type": "execute_result",
          "data": {
            "text/plain": [
              "True"
            ]
          },
          "metadata": {},
          "execution_count": 30
        }
      ]
    },
    {
      "cell_type": "code",
      "source": [
        "all_words = []\n",
        "tags = []\n",
        "xy = []\n",
        "# loop through each sentence in our intents patterns\n",
        "for intent in intents['intents']:\n",
        "    tag = intent['tag']\n",
        "    # add to tag list\n",
        "    tags.append(tag)\n",
        "    for pattern in intent['patterns']:\n",
        "        # tokenize each word in the sentence\n",
        "        w = tokenize(pattern)\n",
        "        # add to our words list\n",
        "        all_words.extend(w)\n",
        "        # add to xy pair\n",
        "        xy.append((w, tag))"
      ],
      "metadata": {
        "id": "3AYSCgj0PI6o"
      },
      "execution_count": 31,
      "outputs": []
    },
    {
      "cell_type": "markdown",
      "source": [
        "This will separate all the tags & words into their separate lists"
      ],
      "metadata": {
        "id": "L7nNzukyPSaM"
      }
    },
    {
      "cell_type": "markdown",
      "source": [
        "###Cleaning & Preparing the data using our custom functions"
      ],
      "metadata": {
        "id": "9LJSyNYgPUTw"
      }
    },
    {
      "cell_type": "code",
      "source": [
        "# stem and lower each word\n",
        "ignore_words = ['?', '.', '!']\n",
        "all_words = [stem(w) for w in all_words if w not in ignore_words]\n",
        "# remove duplicates and sort\n",
        "all_words = sorted(set(all_words))\n",
        "tags = sorted(set(tags))\n",
        "\n",
        "print(len(xy), \"patterns\")\n",
        "print(len(tags), \"tags:\", tags)\n",
        "print(len(all_words), \"unique stemmed words:\", all_words)"
      ],
      "metadata": {
        "colab": {
          "base_uri": "https://localhost:8080/"
        },
        "id": "2lUT6-BQPKRY",
        "outputId": "de275695-197a-4fa6-de18-0e4e03f397ac"
      },
      "execution_count": 32,
      "outputs": [
        {
          "output_type": "stream",
          "name": "stdout",
          "text": [
            "625 patterns\n",
            "161 tags: ['Cemburu', 'Date Recommendation_34', 'Date Recommendation_35', 'Date Recommendation_36', 'Date Recommendation_37', 'Date Recommendation_38', 'Date Recommendation_39', 'Date Recommendation_40', 'Date Recommendation_41', 'Date Recommendation_5', 'Date Recommendation_6', 'Date Recommendation_7', 'Date Recommendation_8', 'Feeling Lonely_1', 'Feeling Lonely_2', 'Feeling Lonely_3', 'Feeling Lonely_4', 'Feeling Lonely_5', 'Ghosting_1', 'Heartbreak_1', 'Heartbreak_10', 'Heartbreak_11', 'Heartbreak_12', 'Heartbreak_13', 'Heartbreak_14', 'Heartbreak_15', 'Heartbreak_16', 'Heartbreak_17', 'Heartbreak_18', 'Heartbreak_19', 'Heartbreak_2', 'Heartbreak_20', 'Heartbreak_3', 'Heartbreak_4', 'Heartbreak_5', 'Heartbreak_6', 'Heartbreak_7', 'Heartbreak_8', 'Heartbreak_9', 'Kepercayaan', 'Kesedihan_1', 'Kesedihan_2', 'Kesedihan_3', 'Kesedihan_4', 'Kesedihan_5', 'Kesetiaan', 'Love_1', 'Love_10', 'Love_11', 'Love_12', 'Love_13', 'Love_14', 'Love_15', 'Love_16', 'Love_17', 'Love_18', 'Love_19', 'Love_2', 'Love_20', 'Love_21', 'Love_22', 'Love_23', 'Love_24', 'Love_25', 'Love_3', 'Love_4', 'Love_5', 'Love_6', 'Love_7', 'Love_8', 'Love_9', 'Mental Health_1', 'Mental Health_10', 'Mental Health_11', 'Mental Health_12', 'Mental Health_13', 'Mental Health_14', 'Mental Health_15', 'Mental Health_16', 'Mental Health_17', 'Mental Health_18', 'Mental Health_19', 'Mental Health_2', 'Mental Health_20', 'Mental Health_3', 'Mental Health_4', 'Mental Health_5', 'Mental Health_6', 'Mental Health_7', 'Mental Health_8', 'Mental Health_9', 'Selingkuh_1', 'Selingkuh_18', 'Selingkuh_2', 'Selingkuh_20', 'Selingkuh_21', 'Selingkuh_23', 'bye', 'curhat_1', 'curhat_10', 'curhat_18', 'curhat_19', 'curhat_2', 'curhat_21', 'curhat_22', 'curhat_25', 'curhat_3', 'curhat_30', 'curhat_31', 'curhat_32', 'curhat_33', 'damn', 'down', 'ghosting_2', 'greeting', 'informasi', 'komunikasi', 'ldr', 'ldr_1', 'ldr_2', 'ldr_3', 'selingkuh', 'selingkuh_10', 'selingkuh_11', 'selingkuh_12', 'selingkuh_13', 'selingkuh_14', 'selingkuh_15', 'selingkuh_16', 'selingkuh_17', 'selingkuh_24', 'selingkuh_25', 'selingkuh_26', 'selingkuh_27', 'selingkuh_28', 'selingkuh_29', 'selingkuh_3', 'selingkuh_30', 'selingkuh_31', 'selingkuh_32', 'selingkuh_33', 'selingkuh_34', 'selingkuh_35', 'selingkuh_36', 'selingkuh_37', 'selingkuh_38', 'selingkuh_39', 'selingkuh_4', 'selingkuh_40', 'selingkuh_41', 'selingkuh_42', 'selingkuh_43', 'selingkuh_44', 'selingkuh_46', 'selingkuh_47', 'selingkuh_48', 'selingkuh_5', 'selingkuh_6', 'selingkuh_7', 'selingkuh_8', 'selingkuh_9']\n",
            "566 unique stemmed words: [\"'\", \"'suka\", ',', '-', 'ada', 'adalah', 'adanya', 'adil', 'afternoon', 'agar', 'aja', 'akan', 'akibat', 'aktivita', 'aku', 'alam', 'alasan', 'an', 'anak', 'anaknya', 'anatar', 'anj', 'antar', 'antara', 'apa', 'apakah', 'apalagi', 'asa', 'asmara', 'aspirasiku', 'atau', 'awet', 'bagaimana', 'bagi', 'bagu', 'bahagia', 'bahwa', 'baik', 'baik-baik', 'bakal', 'banget', 'bangkit', 'baru', 'bego', 'belakang', 'belom', 'belum', 'benar-benar', 'bener', 'bener-ben', 'berakhir', 'berani', 'berbeda', 'berdua', 'berduka', 'berharap', 'berharga', 'berjalan', 'berkesan', 'berkomitmen', 'berkomunikasi', 'berkualita', 'berlebihan', 'berpengaruh', 'bersama', 'bersedih', 'bertengkar', 'besok', 'biar', 'biasanya', 'bicara', 'bikin', 'bilang', 'bingung', 'bisa', 'bodoh', 'bosan', 'bosen', 'bro', 'buat', 'bulan', 'bunuh', 'butuh', 'bye', 'cafe', 'cara', 'caranya', 'catatan', 'cema', 'cemburu', 'cerita', 'cewek', 'ceweku', 'chat', 'chatbot', 'chatingan', 'cinta', 'cocok', 'confess', 'confess-nya', 'cowok', 'cowoku', 'cukup', 'cuma', 'curhat', 'dadah', 'dah', 'dalam', 'dan', 'dapat', 'dari', 'date', 'definisi', 'deket', 'dengan', 'di', 'dia', 'diajak', 'dibelakang', 'didapatkan', 'diem', 'diem-dieman', 'dieman', 'diet', 'dighost', 'dilakukan', 'dimaksud', 'dimana', 'dimasukkan', 'dipenuhi', 'diri', 'dirinya', 'disana', 'diselingkuhin', 'diterima', 'ditolak', 'ditolaknya', 'doi', 'dong', 'down', 'dukungan', 'dulu', 'efektif', 'emosi', 'emosion', 'faktor', 'first', 'fisik', 'fluktuasi', 'frustasi', 'frustrasi', 'fungsi', 'gak', 'galau', 'gangguan', 'gara', 'gatau', 'gebetan', 'gejala', 'ghost', 'gimana', 'gini', 'gitu', 'gk', 'goblok', 'goodby', 'gunung', 'hai', 'hallo', 'halo', 'hampa', 'hancur', 'harian', 'harmoni', 'haru', 'hati', 'hei', 'hi', 'hidup', 'hidupku', 'hobi', 'hubungan', 'humor', 'hy', 'impian', 'impianku', 'in', 'indik', 'ini', 'instagram', 'instagramnya', 'interaksi', 'intim', 'itu', 'iya', 'jadi', 'jadian', 'jadwal', 'jalan', 'jalan-jalan', 'jarak', 'jauh', 'jela', 'jenjang', 'jenuh', 'jepang', 'jika', 'juga', 'jujur', 'jurnal', 'kalo', 'kami', 'kamu', 'kan', 'kangen', 'karena', 'kasih', 'katanya', 'kawan', 'kayak', 'ke', 'kebahagiaan', 'kebiasaan', 'kebutuhan', 'kecemasan', 'kecewa', 'kedekatan', 'kegagalan', 'kegiatan', 'keharmonisan', 'kehidupan', 'kehilangan', 'keintiman', 'kek', 'kekhawatiran', 'kekosongan', 'keliatannya', 'kemana', 'kembali', 'kenal', 'kenangan', 'kencan', 'kepada', 'kepala', 'kepercayaan', 'kesedihan', 'kesehatan', 'keseimbangan', 'kesepian', 'kesetiaan', 'kesiapa', 'kesibukan', 'kesibukannya', 'kestabilan', 'ketakutan', 'ketauan', 'ketempat-tempat', 'ketemu', 'ketidakseimbangan', 'ketidaksetiaan', 'ketika', 'kira-kira', 'kita', 'komitmen', 'komunikasi', 'konflik', 'kosong', 'ku', 'kualita', 'kuat', 'kulineran', 'kurang', 'lagi', 'lagian', 'lain', 'lakukan', 'lama', 'langgeng', 'langkah', 'langkah-langkah', 'latihan', 'ldr', 'lebih', 'liat', 'maaf', 'makan', 'makanan', 'makanya', 'malam', 'mall', 'manajemen', 'manfaat', 'mantan', 'masa-masa', 'masalah', 'masih', 'mata', 'mau', 'meditasi', 'meghadapi', 'melakukan', 'melatih', 'melewati', 'melibatkan', 'melupakan', 'memaafkan', 'memanfaatkan', 'membaangun', 'membangun', 'membantu', 'memberikan', 'membuat', 'memengaruhi', 'memiliki', 'meminimalisir', 'memperbaiki', 'mempraktikkan', 'memulai', 'memulihkan', 'mencari', 'mencintai', 'menciptakan', 'mendapatkan', 'mendukung', 'menemukan', 'mengabaikan', 'mengalami', 'mengapa', 'mengatasi', 'mengatasinya', 'mengatur', 'mengelola', 'mengembangkan', 'mengenali', 'mengendalikan', 'mengetahui', 'menghadapi', 'menghilangkan', 'menghindari', 'mengidentifikasi', 'mengungkapkan', 'mengurangi', 'menilai', 'meningkatkan', 'menjadi', 'menjaga', 'menjalani', 'mental', 'menuli', 'menunjukkan', 'menurut', 'menyakitkan', 'menyebabkan', 'menyedihkan', 'menyelesaikan', 'menyenangkan', 'menyes', 'menyimpan', 'merasa', 'merawat', 'merawatkesehatan', 'meredakan', 'mereka', 'meskipun', 'milih', 'minta', 'minum', 'misalnya', 'monoton', 'morn', 'move', 'musik', 'nanti', 'nembak', 'nembaknya', 'nerima', 'ngapain', 'ngedat', 'ngelanjutin', 'ngeliat', 'ngerasa', 'ngerasanya', 'nggak', 'nggk', 'ngobrol', 'ngomong', 'ngomongin', 'ngopi', 'ngungkapin', 'ni', 'nilai', 'nolak', 'nongkrong', 'normal', 'nutrisi', 'nyangka', 'olahraga', 'oleh', 'omongin', 'on', 'orang', 'otak', 'outdoor', 'pacar', 'pacaran', 'pacarku', 'pada', 'padah', 'padat', 'pagi', 'pantai', 'parah', 'pasangan', 'pasanganku', 'patah', 'pecinta', 'peduli', 'pendapat', 'pengen', 'penolakan', 'pent', 'pentingnya', 'penyebab', 'penyesalan', 'perasaan', 'perbedaan', 'percaya', 'percintaan', 'perhatian', 'perlakuan', 'perlu', 'pernikahan', 'perpisahan', 'persaan', 'perselingkuhan', 'pertama', 'pertengkaran', 'php', 'pola', 'posesif', 'praktik', 'pribadi', 'prose', 'pulih', 'punya', 'putu', 'rasa', 'rasain', 'rencana', 'rencananya', 'rendah', 'respon', 'responenya', 'responnya', 'resto-resto', 'retak', 'rusak', 'rutinita', 'saat', 'sadbot', 'sahabat', 'sahabatku', 'saja', 'sakit', 'salah', 'sale', 'sama', 'samp', 'saran', 'saya', 'sayang', 'sebaiknya', 'sebulan', 'sedang', 'sedih', 'sehari-hari', 'sehat', 'seimbang', 'sekali', 'sekarang', 'selama', 'selingkuh', 'selingkuhnya', 'sempurna', 'semua', 'sendiri', 'sere', 'seriu', 'seseorang', 'setelah', 'setia', 'setiap', 'si', 'sial', 'siang', 'siapa', 'sibuk', 'sih', 'sikap', 'soalnya', 'solusi', 'sore', 'sosial', 'sosialisasi', 'sosmednya', 'strategi', 'stre', 'sudah', 'suka', 'suks', 'sulit', 'supaya', 'tahu', 'takut', 'tanda-tanda', 'tanpa', 'tanya', 'tanyain', 'tapi', 'tau', 'taunya', 'temen', 'temenku', 'tempat', 'tempat-tempat', 'tengah', 'tentang', 'tepat', 'terapi', 'terdekat', 'terfoku', 'terima', 'terimakasih', 'terimaksih', 'teringat', 'terlalu', 'terlibat', 'ternyata', 'tertarik', 'tertawa', 'tertutup', 'teru', 'terus-meneru', 'tetap', 'tiap', 'tidak', 'tidur', 'tindakan', 'tingkat', 'tip', 'tolol', 'trick', 'tua', 'tuh', 'tujuan', 'udah', 'udh', 'umum', 'ungkapin', 'ungkapinnya', 'untuk', 'visualisasi', 'waktu', 'wisata', 'ya', 'yang']\n"
          ]
        }
      ]
    },
    {
      "cell_type": "markdown",
      "source": [
        "###Creating Training Data"
      ],
      "metadata": {
        "id": "85R6e6EYPb8R"
      }
    },
    {
      "cell_type": "code",
      "source": [
        "# create training data\n",
        "X_train = []\n",
        "y_train = []\n",
        "for (pattern_sentence, tag) in xy:\n",
        "    # X: bag of words for each pattern_sentence\n",
        "    bag = bag_of_words(pattern_sentence, all_words)\n",
        "    X_train.append(bag)\n",
        "    # y: PyTorch CrossEntropyLoss needs only class labels, not one-hot\n",
        "    label = tags.index(tag)\n",
        "    y_train.append(label)\n",
        "\n",
        "X_train = np.array(X_train)\n",
        "y_train = np.array(y_train)"
      ],
      "metadata": {
        "id": "9W9QX5UoPZkZ"
      },
      "execution_count": 33,
      "outputs": []
    },
    {
      "cell_type": "markdown",
      "source": [
        "##PyTorch Model\n",
        "\n",
        "---\n",
        "Here we will be making a class to implement our custom neural network. It will be a feed forward neural Network which will have 3 Linear Layers and we will be using activation function “ReLU” .\n",
        "- **Note:** \n",
        "We have used the super() function to inherit the properties of its parent class. \n",
        "This is an Object Oriented Programming (OOP) concept."
      ],
      "metadata": {
        "id": "2TJ6ldSiPtvy"
      }
    },
    {
      "cell_type": "markdown",
      "source": [
        "###Creating our Model"
      ],
      "metadata": {
        "id": "T9lSPNQHP3wI"
      }
    },
    {
      "cell_type": "code",
      "source": [
        "class NeuralNet(nn.Module):\n",
        "    def __init__(self, input_size, hidden_size, num_classes):\n",
        "        super(NeuralNet, self).__init__()\n",
        "        self.l1 = nn.Linear(input_size, hidden_size) \n",
        "        self.l2 = nn.Linear(hidden_size, hidden_size) \n",
        "        self.l3 = nn.Linear(hidden_size, num_classes)\n",
        "        self.relu = nn.ReLU()\n",
        "    \n",
        "    def forward(self, x):\n",
        "        out = self.l1(x)\n",
        "        out = self.relu(out)\n",
        "        out = self.l2(out)\n",
        "        out = self.relu(out)\n",
        "        out = self.l3(out)\n",
        "        # no activation and no softmax at the end\n",
        "        return out"
      ],
      "metadata": {
        "id": "qWsxIgQRPfiK"
      },
      "execution_count": 34,
      "outputs": []
    },
    {
      "cell_type": "markdown",
      "source": [
        "Here we have inherited a class from NN.Module because we will be customizing the model & its layers"
      ],
      "metadata": {
        "id": "7tSkl73UP-tw"
      }
    },
    {
      "cell_type": "markdown",
      "source": [
        "###Assigning the Dataset to the Model\n",
        "- We will use some Magic functions, write our class.\n",
        "- You can read online about __getitem__ and __getitem__ magic funtions."
      ],
      "metadata": {
        "id": "q3brEXToQAhI"
      }
    },
    {
      "cell_type": "code",
      "source": [
        "class ChatDataset(Dataset):\n",
        "\n",
        "    def __init__(self):\n",
        "        self.n_samples = len(X_train)\n",
        "        self.x_data = X_train\n",
        "        self.y_data = y_train\n",
        "\n",
        "    # support indexing such that dataset[i] can be used to get i-th sample\n",
        "    def __getitem__(self, index):\n",
        "        return self.x_data[index], self.y_data[index]\n",
        "\n",
        "    # we can call len(dataset) to return the size\n",
        "    def __len__(self):\n",
        "        return self.n_samples"
      ],
      "metadata": {
        "id": "7kka8ULzP9xR"
      },
      "execution_count": 35,
      "outputs": []
    },
    {
      "cell_type": "markdown",
      "source": [
        "###Hyper Parameters\n",
        "- Every Neural network has a set of hyper parameters that need to be set before use.\n",
        "- Before Instantiating our Neural Net Class or Model that we wrote earlier, we will first define some hyper parameters which can be changed accordingly."
      ],
      "metadata": {
        "id": "1k749T-SQM4A"
      }
    },
    {
      "cell_type": "code",
      "source": [
        "# Hyper-parameters \n",
        "num_epochs = 200\n",
        "batch_size = 8\n",
        "learning_rate = 0.001\n",
        "input_size = len(X_train[0])\n",
        "hidden_size = 8\n",
        "output_size = len(tags)\n",
        "print(input_size, output_size)"
      ],
      "metadata": {
        "colab": {
          "base_uri": "https://localhost:8080/"
        },
        "id": "vQ002UK3QH8s",
        "outputId": "702af7d5-a4e5-4007-ca75-c86ab1ddaf2a"
      },
      "execution_count": 36,
      "outputs": [
        {
          "output_type": "stream",
          "name": "stdout",
          "text": [
            "566 161\n"
          ]
        }
      ]
    },
    {
      "cell_type": "markdown",
      "source": [
        "###Loss and Optimizer\n",
        "- We will now Instantiate the model, loss and optimizer functions.\n",
        "- Loss Function: Cross Entropy \n",
        "- Optimizer: Adam Optimizer"
      ],
      "metadata": {
        "id": "8GAwlnnQQTg3"
      }
    },
    {
      "cell_type": "code",
      "source": [
        "dataset = ChatDataset()\n",
        "train_loader = DataLoader(dataset=dataset,\n",
        "                          batch_size=batch_size,\n",
        "                          shuffle=True,\n",
        "                          num_workers=0)\n",
        "\n",
        "device = torch.device('cuda' if torch.cuda.is_available() else 'cpu')\n",
        "\n",
        "model = NeuralNet(input_size, hidden_size, output_size).to(device)\n",
        "\n",
        "# Loss and optimizer\n",
        "criterion = nn.CrossEntropyLoss()\n",
        "optimizer = torch.optim.Adam(model.parameters(), lr=learning_rate)"
      ],
      "metadata": {
        "id": "xLvAlLBVQJRq"
      },
      "execution_count": 37,
      "outputs": []
    },
    {
      "cell_type": "markdown",
      "source": [
        "###Training the Model"
      ],
      "metadata": {
        "id": "k0a1MAQhQb-p"
      }
    },
    {
      "cell_type": "code",
      "source": [
        "train_losses = [] # Menyimpan loss pada setiap epoch\n",
        "train_acc = [] # Menyimpan akurasi pada setiap epoch\n",
        "\n",
        "for epoch in range(num_epochs):\n",
        "    print(\"Epoch ke-\", epoch+1)\n",
        "    n_correct = 0\n",
        "    n_total = 0\n",
        "    predicted_labels, ground_truth_labels = [], []\n",
        "\n",
        "    for i, (words, labels) in enumerate(train_loader):\n",
        "        words = words.to(device)\n",
        "        labels = labels.to(dtype=torch.long).to(device)\n",
        "\n",
        "        outputs = model(words)\n",
        "        loss = criterion(outputs, labels)\n",
        "\n",
        "        optimizer.zero_grad()\n",
        "        loss.backward()\n",
        "        optimizer.step()\n",
        "\n",
        "        _, predicted = torch.max(outputs, 1)\n",
        "        n_correct += (predicted == labels).sum().item()\n",
        "        n_total += labels.shape[0]\n",
        "\n",
        "        predicted_labels.append(predicted.cpu().detach().numpy())\n",
        "        ground_truth_labels.append(labels.cpu().detach().numpy())\n",
        "\n",
        "    accuracy = 100 * n_correct / n_total\n",
        "\n",
        "    train_losses.append(loss.item())\n",
        "    train_acc.append(accuracy)\n",
        "\n",
        "    if (epoch+1) % 10 == 0:\n",
        "        print(f'Epoch [{epoch+1}/{num_epochs}], Loss : {loss.item():.2f}, Acc: {accuracy:.2f}')\n",
        "\n",
        "# Plot loss\n",
        "plt.plot(train_losses)\n",
        "plt.xlabel('Epoch')\n",
        "plt.ylabel('Loss')\n",
        "plt.title('Training Loss')\n",
        "plt.show()\n",
        "\n",
        "# Plot accuracy\n",
        "plt.plot(train_acc)\n",
        "plt.xlabel('Epoch')\n",
        "plt.ylabel('Accuracy')\n",
        "plt.title('Training Accuracy')\n",
        "plt.show()\n"
      ],
      "metadata": {
        "colab": {
          "base_uri": "https://localhost:8080/",
          "height": 1000
        },
        "id": "dLh3IPmSjXb_",
        "outputId": "cbd25b8f-5803-4225-846d-7c736e8ee161"
      },
      "execution_count": 38,
      "outputs": [
        {
          "output_type": "stream",
          "name": "stdout",
          "text": [
            "Epoch ke- 1\n",
            "Epoch ke- 2\n",
            "Epoch ke- 3\n",
            "Epoch ke- 4\n",
            "Epoch ke- 5\n",
            "Epoch ke- 6\n",
            "Epoch ke- 7\n",
            "Epoch ke- 8\n",
            "Epoch ke- 9\n",
            "Epoch ke- 10\n",
            "Epoch [10/200], Loss : 3.78, Acc: 11.36\n",
            "Epoch ke- 11\n",
            "Epoch ke- 12\n",
            "Epoch ke- 13\n",
            "Epoch ke- 14\n",
            "Epoch ke- 15\n",
            "Epoch ke- 16\n",
            "Epoch ke- 17\n",
            "Epoch ke- 18\n",
            "Epoch ke- 19\n",
            "Epoch ke- 20\n",
            "Epoch [20/200], Loss : 3.43, Acc: 43.36\n",
            "Epoch ke- 21\n",
            "Epoch ke- 22\n",
            "Epoch ke- 23\n",
            "Epoch ke- 24\n",
            "Epoch ke- 25\n",
            "Epoch ke- 26\n",
            "Epoch ke- 27\n",
            "Epoch ke- 28\n",
            "Epoch ke- 29\n",
            "Epoch ke- 30\n",
            "Epoch [30/200], Loss : 0.91, Acc: 73.60\n",
            "Epoch ke- 31\n",
            "Epoch ke- 32\n",
            "Epoch ke- 33\n",
            "Epoch ke- 34\n",
            "Epoch ke- 35\n",
            "Epoch ke- 36\n",
            "Epoch ke- 37\n",
            "Epoch ke- 38\n",
            "Epoch ke- 39\n",
            "Epoch ke- 40\n",
            "Epoch [40/200], Loss : 0.89, Acc: 88.48\n",
            "Epoch ke- 41\n",
            "Epoch ke- 42\n",
            "Epoch ke- 43\n",
            "Epoch ke- 44\n",
            "Epoch ke- 45\n",
            "Epoch ke- 46\n",
            "Epoch ke- 47\n",
            "Epoch ke- 48\n",
            "Epoch ke- 49\n",
            "Epoch ke- 50\n",
            "Epoch [50/200], Loss : 0.20, Acc: 94.40\n",
            "Epoch ke- 51\n",
            "Epoch ke- 52\n",
            "Epoch ke- 53\n",
            "Epoch ke- 54\n",
            "Epoch ke- 55\n",
            "Epoch ke- 56\n",
            "Epoch ke- 57\n",
            "Epoch ke- 58\n",
            "Epoch ke- 59\n",
            "Epoch ke- 60\n",
            "Epoch [60/200], Loss : 0.03, Acc: 96.64\n",
            "Epoch ke- 61\n",
            "Epoch ke- 62\n",
            "Epoch ke- 63\n",
            "Epoch ke- 64\n",
            "Epoch ke- 65\n",
            "Epoch ke- 66\n",
            "Epoch ke- 67\n",
            "Epoch ke- 68\n",
            "Epoch ke- 69\n",
            "Epoch ke- 70\n",
            "Epoch [70/200], Loss : 0.10, Acc: 97.12\n",
            "Epoch ke- 71\n",
            "Epoch ke- 72\n",
            "Epoch ke- 73\n",
            "Epoch ke- 74\n",
            "Epoch ke- 75\n",
            "Epoch ke- 76\n",
            "Epoch ke- 77\n",
            "Epoch ke- 78\n",
            "Epoch ke- 79\n",
            "Epoch ke- 80\n",
            "Epoch [80/200], Loss : 1.50, Acc: 98.08\n",
            "Epoch ke- 81\n",
            "Epoch ke- 82\n",
            "Epoch ke- 83\n",
            "Epoch ke- 84\n",
            "Epoch ke- 85\n",
            "Epoch ke- 86\n",
            "Epoch ke- 87\n",
            "Epoch ke- 88\n",
            "Epoch ke- 89\n",
            "Epoch ke- 90\n",
            "Epoch [90/200], Loss : 0.00, Acc: 98.40\n",
            "Epoch ke- 91\n",
            "Epoch ke- 92\n",
            "Epoch ke- 93\n",
            "Epoch ke- 94\n",
            "Epoch ke- 95\n",
            "Epoch ke- 96\n",
            "Epoch ke- 97\n",
            "Epoch ke- 98\n",
            "Epoch ke- 99\n",
            "Epoch ke- 100\n",
            "Epoch [100/200], Loss : 0.04, Acc: 98.72\n",
            "Epoch ke- 101\n",
            "Epoch ke- 102\n",
            "Epoch ke- 103\n",
            "Epoch ke- 104\n",
            "Epoch ke- 105\n",
            "Epoch ke- 106\n",
            "Epoch ke- 107\n",
            "Epoch ke- 108\n",
            "Epoch ke- 109\n",
            "Epoch ke- 110\n",
            "Epoch [110/200], Loss : 0.00, Acc: 99.04\n",
            "Epoch ke- 111\n",
            "Epoch ke- 112\n",
            "Epoch ke- 113\n",
            "Epoch ke- 114\n",
            "Epoch ke- 115\n",
            "Epoch ke- 116\n",
            "Epoch ke- 117\n",
            "Epoch ke- 118\n",
            "Epoch ke- 119\n",
            "Epoch ke- 120\n",
            "Epoch [120/200], Loss : 0.02, Acc: 99.36\n",
            "Epoch ke- 121\n",
            "Epoch ke- 122\n",
            "Epoch ke- 123\n",
            "Epoch ke- 124\n",
            "Epoch ke- 125\n",
            "Epoch ke- 126\n",
            "Epoch ke- 127\n",
            "Epoch ke- 128\n",
            "Epoch ke- 129\n",
            "Epoch ke- 130\n",
            "Epoch [130/200], Loss : 0.00, Acc: 99.04\n",
            "Epoch ke- 131\n",
            "Epoch ke- 132\n",
            "Epoch ke- 133\n",
            "Epoch ke- 134\n",
            "Epoch ke- 135\n",
            "Epoch ke- 136\n",
            "Epoch ke- 137\n",
            "Epoch ke- 138\n",
            "Epoch ke- 139\n",
            "Epoch ke- 140\n",
            "Epoch [140/200], Loss : 0.00, Acc: 99.04\n",
            "Epoch ke- 141\n",
            "Epoch ke- 142\n",
            "Epoch ke- 143\n",
            "Epoch ke- 144\n",
            "Epoch ke- 145\n",
            "Epoch ke- 146\n",
            "Epoch ke- 147\n",
            "Epoch ke- 148\n",
            "Epoch ke- 149\n",
            "Epoch ke- 150\n",
            "Epoch [150/200], Loss : 0.00, Acc: 99.20\n",
            "Epoch ke- 151\n",
            "Epoch ke- 152\n",
            "Epoch ke- 153\n",
            "Epoch ke- 154\n",
            "Epoch ke- 155\n",
            "Epoch ke- 156\n",
            "Epoch ke- 157\n",
            "Epoch ke- 158\n",
            "Epoch ke- 159\n",
            "Epoch ke- 160\n",
            "Epoch [160/200], Loss : 0.00, Acc: 99.20\n",
            "Epoch ke- 161\n",
            "Epoch ke- 162\n",
            "Epoch ke- 163\n",
            "Epoch ke- 164\n",
            "Epoch ke- 165\n",
            "Epoch ke- 166\n",
            "Epoch ke- 167\n",
            "Epoch ke- 168\n",
            "Epoch ke- 169\n",
            "Epoch ke- 170\n",
            "Epoch [170/200], Loss : 0.00, Acc: 99.36\n",
            "Epoch ke- 171\n",
            "Epoch ke- 172\n",
            "Epoch ke- 173\n",
            "Epoch ke- 174\n",
            "Epoch ke- 175\n",
            "Epoch ke- 176\n",
            "Epoch ke- 177\n",
            "Epoch ke- 178\n",
            "Epoch ke- 179\n",
            "Epoch ke- 180\n",
            "Epoch [180/200], Loss : 0.00, Acc: 99.36\n",
            "Epoch ke- 181\n",
            "Epoch ke- 182\n",
            "Epoch ke- 183\n",
            "Epoch ke- 184\n",
            "Epoch ke- 185\n",
            "Epoch ke- 186\n",
            "Epoch ke- 187\n",
            "Epoch ke- 188\n",
            "Epoch ke- 189\n",
            "Epoch ke- 190\n",
            "Epoch [190/200], Loss : 0.00, Acc: 98.88\n",
            "Epoch ke- 191\n",
            "Epoch ke- 192\n",
            "Epoch ke- 193\n",
            "Epoch ke- 194\n",
            "Epoch ke- 195\n",
            "Epoch ke- 196\n",
            "Epoch ke- 197\n",
            "Epoch ke- 198\n",
            "Epoch ke- 199\n",
            "Epoch ke- 200\n",
            "Epoch [200/200], Loss : 0.00, Acc: 98.88\n"
          ]
        },
        {
          "output_type": "display_data",
          "data": {
            "text/plain": [
              "<Figure size 640x480 with 1 Axes>"
            ],
            "image/png": "[encoded data removed]"
          },
          "metadata": {}
        },
        {
          "output_type": "display_data",
          "data": {
            "text/plain": [
              "<Figure size 640x480 with 1 Axes>"
            ],
            "image/png": "[encoded data removed]"
          },
          "metadata": {}
        }
      ]
    },
    {
      "cell_type": "code",
      "source": [
        "data = {\n",
        "\"model_state\": model.state_dict(),\n",
        "\"input_size\": input_size,\n",
        "\"hidden_size\": hidden_size,\n",
        "\"output_size\": output_size,\n",
        "\"all_words\": all_words,\n",
        "\"tags\": tags\n",
        "}"
      ],
      "metadata": {
        "id": "J-x1NxSDz4pg"
      },
      "execution_count": 39,
      "outputs": []
    },
    {
      "cell_type": "markdown",
      "source": [
        "###Saving the Trained Model"
      ],
      "metadata": {
        "id": "mulcOr3BTESx"
      }
    },
    {
      "cell_type": "code",
      "source": [
        "FILE = \"data.pth\"\n",
        "torch.save(data, FILE)\n",
        "\n",
        "print(f'training complete. file saved to {FILE}')"
      ],
      "metadata": {
        "colab": {
          "base_uri": "https://localhost:8080/"
        },
        "id": "wyy-Dkg8TGfx",
        "outputId": "8737b578-29f2-472a-e9f2-203e015c2773"
      },
      "execution_count": 40,
      "outputs": [
        {
          "output_type": "stream",
          "name": "stdout",
          "text": [
            "training complete. file saved to data.pth\n"
          ]
        }
      ]
    },
    {
      "cell_type": "markdown",
      "source": [
        "###Loading our Saved Model"
      ],
      "metadata": {
        "id": "o05OyaQSTIsJ"
      }
    },
    {
      "cell_type": "code",
      "source": [
        "device = torch.device('cuda' if torch.cuda.is_available() else 'cpu')\n",
        "\n",
        "with open('Sadbot.json', 'r') as json_data:\n",
        "    intents = json.load(json_data)\n",
        "\n",
        "FILE = \"data.pth\"\n",
        "data = torch.load(FILE)\n",
        "\n",
        "input_size = data[\"input_size\"]\n",
        "hidden_size = data[\"hidden_size\"]\n",
        "output_size = data[\"output_size\"]\n",
        "all_words = data['all_words']\n",
        "tags = data['tags']\n",
        "model_state = data[\"model_state\"]\n",
        "\n",
        "model = NeuralNet(input_size, hidden_size, output_size).to(device)\n",
        "model.load_state_dict(model_state)\n",
        "model.eval()"
      ],
      "metadata": {
        "colab": {
          "base_uri": "https://localhost:8080/"
        },
        "id": "V_eWqZlfTHfg",
        "outputId": "c4eb655f-a8a5-47ad-ec92-c315a25fe9b1"
      },
      "execution_count": 41,
      "outputs": [
        {
          "output_type": "execute_result",
          "data": {
            "text/plain": [
              "NeuralNet(\n",
              "  (l1): Linear(in_features=566, out_features=8, bias=True)\n",
              "  (l2): Linear(in_features=8, out_features=8, bias=True)\n",
              "  (l3): Linear(in_features=8, out_features=161, bias=True)\n",
              "  (relu): ReLU()\n",
              ")"
            ]
          },
          "metadata": {},
          "execution_count": 41
        }
      ]
    },
    {
      "cell_type": "markdown",
      "source": [
        "###Using the Chatbot"
      ],
      "metadata": {
        "id": "pUyjTW6tTN_n"
      }
    },
    {
      "cell_type": "code",
      "source": [
        "bot_name = \"Sadbot\"\n",
        "print(\"Mau Curhat apa ni?^^ (type 'bye' to exit)\")\n",
        "while True:\n",
        "    # sentence = \"do you use credit cards?\"\n",
        "    sentence = input(\"You: \")\n",
        "    if sentence == \"bye\":\n",
        "        break\n",
        "\n",
        "    sentence = tokenize(sentence)\n",
        "    X = bag_of_words(sentence, all_words)\n",
        "    X = X.reshape(1, X.shape[0])\n",
        "    X = torch.from_numpy(X).to(device)\n",
        "\n",
        "    output = model(X)\n",
        "    _, predicted = torch.max(output, dim=1)\n",
        "\n",
        "    tag = tags[predicted.item()]\n",
        "\n",
        "    probs = torch.softmax(output, dim=1)\n",
        "    prob = probs[0][predicted.item()]\n",
        "    if prob.item() > 0.75:\n",
        "        for intent in intents['intents']:\n",
        "            if tag == intent[\"tag\"]:\n",
        "                print(f\"{bot_name}: {random.choice(intent['responses'])}\")\n",
        "    else:\n",
        "        print(f\"{bot_name}: I do not understand...\")"
      ],
      "metadata": {
        "colab": {
          "base_uri": "https://localhost:8080/",
          "height": 485
        },
        "id": "NYfTddfhTLvK",
        "outputId": "c8fea5f5-adbd-415c-d448-1aa5359a74f0"
      },
      "execution_count": 42,
      "outputs": [
        {
          "output_type": "stream",
          "name": "stdout",
          "text": [
            "Mau Curhat apa ni?^^ (type 'bye' to exit)\n",
            "You: hallo\n",
            "Sadbot: heii, ada yang perlu chatbot bantu\n",
            "You: hallo sadbot\n",
            "Sadbot: hallo, mau curhat apa ni sama sadbot?\n"
          ]
        },
        {
          "output_type": "error",
          "ename": "KeyboardInterrupt",
          "evalue": "ignored",
          "traceback": [
            "\u001b[0;31m---------------------------------------------------------------------------\u001b[0m",
            "\u001b[0;31mKeyboardInterrupt\u001b[0m                         Traceback (most recent call last)",
            "\u001b[0;32m<ipython-input-42-29f15d5e5956>\u001b[0m in \u001b[0;36m<cell line: 3>\u001b[0;34m()\u001b[0m\n\u001b[1;32m      3\u001b[0m \u001b[0;32mwhile\u001b[0m \u001b[0;32mTrue\u001b[0m\u001b[0;34m:\u001b[0m\u001b[0;34m\u001b[0m\u001b[0;34m\u001b[0m\u001b[0m\n\u001b[1;32m      4\u001b[0m     \u001b[0;31m# sentence = \"do you use credit cards?\"\u001b[0m\u001b[0;34m\u001b[0m\u001b[0;34m\u001b[0m\u001b[0m\n\u001b[0;32m----> 5\u001b[0;31m     \u001b[0msentence\u001b[0m \u001b[0;34m=\u001b[0m \u001b[0minput\u001b[0m\u001b[0;34m(\u001b[0m\u001b[0;34m\"You: \"\u001b[0m\u001b[0;34m)\u001b[0m\u001b[0;34m\u001b[0m\u001b[0;34m\u001b[0m\u001b[0m\n\u001b[0m\u001b[1;32m      6\u001b[0m     \u001b[0;32mif\u001b[0m \u001b[0msentence\u001b[0m \u001b[0;34m==\u001b[0m \u001b[0;34m\"bye\"\u001b[0m\u001b[0;34m:\u001b[0m\u001b[0;34m\u001b[0m\u001b[0;34m\u001b[0m\u001b[0m\n\u001b[1;32m      7\u001b[0m         \u001b[0;32mbreak\u001b[0m\u001b[0;34m\u001b[0m\u001b[0;34m\u001b[0m\u001b[0m\n",
            "\u001b[0;32m/usr/local/lib/python3.10/dist-packages/ipykernel/kernelbase.py\u001b[0m in \u001b[0;36mraw_input\u001b[0;34m(self, prompt)\u001b[0m\n\u001b[1;32m    849\u001b[0m                 \u001b[0;34m\"raw_input was called, but this frontend does not support input requests.\"\u001b[0m\u001b[0;34m\u001b[0m\u001b[0;34m\u001b[0m\u001b[0m\n\u001b[1;32m    850\u001b[0m             )\n\u001b[0;32m--> 851\u001b[0;31m         return self._input_request(str(prompt),\n\u001b[0m\u001b[1;32m    852\u001b[0m             \u001b[0mself\u001b[0m\u001b[0;34m.\u001b[0m\u001b[0m_parent_ident\u001b[0m\u001b[0;34m,\u001b[0m\u001b[0;34m\u001b[0m\u001b[0;34m\u001b[0m\u001b[0m\n\u001b[1;32m    853\u001b[0m             \u001b[0mself\u001b[0m\u001b[0;34m.\u001b[0m\u001b[0m_parent_header\u001b[0m\u001b[0;34m,\u001b[0m\u001b[0;34m\u001b[0m\u001b[0;34m\u001b[0m\u001b[0m\n",
            "\u001b[0;32m/usr/local/lib/python3.10/dist-packages/ipykernel/kernelbase.py\u001b[0m in \u001b[0;36m_input_request\u001b[0;34m(self, prompt, ident, parent, password)\u001b[0m\n\u001b[1;32m    893\u001b[0m             \u001b[0;32mexcept\u001b[0m \u001b[0mKeyboardInterrupt\u001b[0m\u001b[0;34m:\u001b[0m\u001b[0;34m\u001b[0m\u001b[0;34m\u001b[0m\u001b[0m\n\u001b[1;32m    894\u001b[0m                 \u001b[0;31m# re-raise KeyboardInterrupt, to truncate traceback\u001b[0m\u001b[0;34m\u001b[0m\u001b[0;34m\u001b[0m\u001b[0m\n\u001b[0;32m--> 895\u001b[0;31m                 \u001b[0;32mraise\u001b[0m \u001b[0mKeyboardInterrupt\u001b[0m\u001b[0;34m(\u001b[0m\u001b[0;34m\"Interrupted by user\"\u001b[0m\u001b[0;34m)\u001b[0m \u001b[0;32mfrom\u001b[0m \u001b[0;32mNone\u001b[0m\u001b[0;34m\u001b[0m\u001b[0;34m\u001b[0m\u001b[0m\n\u001b[0m\u001b[1;32m    896\u001b[0m             \u001b[0;32mexcept\u001b[0m \u001b[0mException\u001b[0m \u001b[0;32mas\u001b[0m \u001b[0me\u001b[0m\u001b[0;34m:\u001b[0m\u001b[0;34m\u001b[0m\u001b[0;34m\u001b[0m\u001b[0m\n\u001b[1;32m    897\u001b[0m                 \u001b[0mself\u001b[0m\u001b[0;34m.\u001b[0m\u001b[0mlog\u001b[0m\u001b[0;34m.\u001b[0m\u001b[0mwarning\u001b[0m\u001b[0;34m(\u001b[0m\u001b[0;34m\"Invalid Message:\"\u001b[0m\u001b[0;34m,\u001b[0m \u001b[0mexc_info\u001b[0m\u001b[0;34m=\u001b[0m\u001b[0;32mTrue\u001b[0m\u001b[0;34m)\u001b[0m\u001b[0;34m\u001b[0m\u001b[0;34m\u001b[0m\u001b[0m\n",
            "\u001b[0;31mKeyboardInterrupt\u001b[0m: Interrupted by user"
          ]
        }
      ]
    },
    {
      "cell_type": "markdown",
      "source": [
        "##Evaluasi"
      ],
      "metadata": {
        "id": "Cl6KlgPeTajv"
      }
    },
    {
      "cell_type": "code",
      "source": [],
      "metadata": {
        "id": "hh3_qiOo0GVS"
      },
      "execution_count": null,
      "outputs": []
    }
  ]
}